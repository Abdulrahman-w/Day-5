{
 "cells": [
  {
   "cell_type": "markdown",
   "metadata": {},
   "source": [
    "# Python_Lab_3\n"
   ]
  },
  {
   "cell_type": "markdown",
   "metadata": {},
   "source": [
    "### Task 1\n",
    "- Write a function named **'create_student_records'** that takes a list of tuples. Each tuple contains a student's name and their scores in three subjects. The function should return a list of dictionaries, where each dictionary represents a student with keys: name, subject1, subject2, subject3. Use list comprehension to create the list of dictionaries."
   ]
  },
  {
   "cell_type": "code",
   "execution_count": null,
   "metadata": {},
   "outputs": [],
   "source": [
    "# write your code here ^_^\n",
    "def create_student_records()"
   ]
  },
  {
   "cell_type": "code",
   "execution_count": 1,
   "metadata": {},
   "outputs": [
    {
     "name": "stdout",
     "output_type": "stream",
     "text": [
      "[{'name': 'Sal', 'subject1': 90, 'subject2': 75, 'subject3': 85}, {'name': 'Ali', 'subject1': 100, 'subject2': 95, 'subject3': 70}, {'name': 'Ryan', 'subject1': 88, 'subject2': 95, 'subject3': 70}]\n"
     ]
    }
   ],
   "source": [
    "def create_student_records(student_tuples):\n",
    "    std_ls = [{'name': std[0],'subject1':std[1],'subject2': std[2],'subject3': std[3]} for std in student_tuples]\n",
    "    return std_ls\n",
    "\n",
    "students = [(\"Sal\", 90 ,75 ,85),(\"Ali\", 100,95 ,70),(\"Ryan\", 88 ,95 ,70)]\n",
    "\n",
    "records = create_student_records(students)\n",
    "print(records)"
   ]
  },
  {
   "cell_type": "markdown",
   "metadata": {},
   "source": [
    "### Task 2\n",
    "- Write a function named **'filter_and_sort_students'** that takes the list of dictionaries from Question 1 and returns a sorted list of student names who have an average score of 80 or more across all subjects. Sort the names in alphabetical order."
   ]
  },
  {
   "cell_type": "code",
   "execution_count": 3,
   "metadata": {},
   "outputs": [
    {
     "name": "stdout",
     "output_type": "stream",
     "text": [
      "['Ali', 'Ryan', 'Sal']\n"
     ]
    }
   ],
   "source": [
    "# write your code here ^_^\n",
    "def filter_and_sort(filtration):\n",
    "    \n",
    "    filter = [std['name'] for std in filtration if (std['subject1'] + std['subject2'] + std['subject3']) / 3 >= 80]\n",
    "    sorted_list = list(sorted(filter))\n",
    "    return sorted_list\n",
    "sorted = list(filter_and_sort(records))\n",
    "print(sorted)"
   ]
  },
  {
   "cell_type": "markdown",
   "metadata": {},
   "source": [
    "### Task 3\n",
    "- Write a function named **'get_product_info'** that prompts the user to enter information about a product. The function should ask for the product name, product price, and product quantity. If the user enters an invalid input (e.g., a non-numeric value for the price or quantity), the function should handle the error and prompt the user to enter the value again. Return a dictionary containing the product information."
   ]
  },
  {
   "cell_type": "code",
   "execution_count": 17,
   "metadata": {
    "scrolled": true
   },
   "outputs": [
    {
     "name": "stdin",
     "output_type": "stream",
     "text": [
      "Enter The Product Name: Iphone\n",
      "Enter The Product Price 2000\n",
      "Enter The Product Quantity: 3\n"
     ]
    },
    {
     "data": {
      "text/plain": [
       "{'Name': 'Iphone', 'Price': 2000.0, 'Quantity': 3}"
      ]
     },
     "execution_count": 17,
     "metadata": {},
     "output_type": "execute_result"
    }
   ],
   "source": [
    "# write your code here ^_^\n",
    "    \n",
    "def get_product_info():\n",
    "    p_name = input(\"Enter The Product Name:\")\n",
    "    p_price = float(input(\"Enter The Product Price\"))\n",
    "    p_quantity = int(input(\"Enter The Product Quantity:\"))\n",
    "\n",
    "    product_info = {\"Name\":p_name,\"Price\":p_price,\"Quantity\":p_quantity}\n",
    "    return product_info\n",
    "\n",
    "\n",
    "get_product_info()\n"
   ]
  },
  {
   "cell_type": "markdown",
   "metadata": {},
   "source": [
    "### Task 4\n",
    "- Write a function named **'get_even_numbers'** that takes a list of integers and returns a list of even numbers using list comprehension."
   ]
  },
  {
   "cell_type": "code",
   "execution_count": 34,
   "metadata": {},
   "outputs": [
    {
     "name": "stdout",
     "output_type": "stream",
     "text": [
      "Print only Even Numbers in list: [2, 4, 6, 8]\n"
     ]
    }
   ],
   "source": [
    "# write your code here ^_^\n",
    "\n",
    "def get_even_numbers(num):\n",
    "    even_number = [i for i in num if i % 2 == 0]\n",
    "    return even_number\n",
    "\n",
    "numbers_list = [1,2,3,4,5,6,7,8,9]\n",
    "print(f\"Print only Even Numbers in list: {get_even_numbers(numbers_list)}\")"
   ]
  },
  {
   "cell_type": "markdown",
   "metadata": {},
   "source": [
    "### Task 5\n",
    "- Write a function named **'pair_elements'** that takes two lists of equal length as parameters and returns a list of tuples, where each tuple contains corresponding elements from the two lists. Use the zip function to achieve this."
   ]
  },
  {
   "cell_type": "markdown",
   "metadata": {},
   "source": []
  },
  {
   "cell_type": "code",
   "execution_count": 40,
   "metadata": {},
   "outputs": [
    {
     "name": "stdout",
     "output_type": "stream",
     "text": [
      "Merge two list in Tuple: [(1, 'High'), (2, 'Medium'), (3, 'Low')]\n"
     ]
    }
   ],
   "source": [
    "# write your code here ^_^\n",
    "def pair_elements(tuple1,tuple2):\n",
    "    merge = list(zip(tuple1,tuple2))\n",
    "    return merge\n",
    "    \n",
    "ls1 = [1,2,3]    \n",
    "ls2 = ['High','Medium','Low']\n",
    "print(\"Merge two list in Tuple:\",pair_elements(ls1,ls2))"
   ]
  },
  {
   "cell_type": "markdown",
   "metadata": {},
   "source": [
    "### Task 6\n",
    "- Write a function named **'square_dict_lambda'** that takes a list of integers and returns a dictionary where the keys are the integers and the values are their squares. Use a lambda function within a dictionary comprehension to achieve this."
   ]
  },
  {
   "cell_type": "code",
   "execution_count": 46,
   "metadata": {},
   "outputs": [
    {
     "name": "stdout",
     "output_type": "stream",
     "text": [
      "{1: 1, 2: 4, 3: 9, 4: 16, 5: 25}\n"
     ]
    }
   ],
   "source": [
    "# write your code here ^_^\n",
    "\n",
    "def square_dict_lambda(integer):\n",
    "    square_dict = {x:(lambda x: x**2)(x) for x in integer}\n",
    "    return square_dict\n",
    "    \n",
    "\n",
    "integer_num = [1,2,3,4,5] \n",
    "print(square_dict_lambda(integer_num))"
   ]
  }
 ],
 "metadata": {
  "kernelspec": {
   "display_name": "Python 3 (ipykernel)",
   "language": "python",
   "name": "python3"
  },
  "language_info": {
   "codemirror_mode": {
    "name": "ipython",
    "version": 3
   },
   "file_extension": ".py",
   "mimetype": "text/x-python",
   "name": "python",
   "nbconvert_exporter": "python",
   "pygments_lexer": "ipython3",
   "version": "3.12.4"
  }
 },
 "nbformat": 4,
 "nbformat_minor": 4
}
